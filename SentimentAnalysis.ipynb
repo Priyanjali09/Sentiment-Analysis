{
  "nbformat": 4,
  "nbformat_minor": 0,
  "metadata": {
    "colab": {
      "name": "SentimentAnalysis.ipynb",
      "provenance": [],
      "collapsed_sections": []
    },
    "kernelspec": {
      "name": "python3",
      "display_name": "Python 3"
    },
    "language_info": {
      "name": "python"
    }
  },
  "cells": [
    {
      "cell_type": "code",
      "execution_count": null,
      "metadata": {
        "id": "4rzd1Wwc2Fw8"
      },
      "outputs": [],
      "source": [
        "X_train =  [\"Amazing customer service\",\n",
        "\"Love it !\",\n",
        "\"Good price\",\n",
        "\"What is not to like about this product\",\n",
        "  \"Not bad\",\n",
        "   \"Not an issue\",\n",
        "   \"Not buggy\"]\n",
        "\n",
        "y_train = [1,1,1,1,0,0,0] # 1- Positive , 0-Negative Class"
      ]
    },
    {
      "cell_type": "code",
      "source": [
        "X_train"
      ],
      "metadata": {
        "colab": {
          "base_uri": "https://localhost:8080/"
        },
        "id": "pDVgn9WP2T3Z",
        "outputId": "0103813e-01e7-4915-b642-fcc1b4d32e76"
      },
      "execution_count": null,
      "outputs": [
        {
          "output_type": "execute_result",
          "data": {
            "text/plain": [
              "['Amazing customer service',\n",
              " 'Love it !',\n",
              " 'Good price',\n",
              " 'What is not to like about this product',\n",
              " 'Not bad',\n",
              " 'Not an issue',\n",
              " 'Not buggy']"
            ]
          },
          "metadata": {},
          "execution_count": 2
        }
      ]
    },
    {
      "cell_type": "markdown",
      "source": [
        "#Data Cleaning"
      ],
      "metadata": {
        "id": "IDrxCDmv4B_P"
      }
    },
    {
      "cell_type": "code",
      "source": [
        "from nltk.tokenize import RegexpTokenizer"
      ],
      "metadata": {
        "id": "s2JtqdGN2Ygf"
      },
      "execution_count": null,
      "outputs": []
    },
    {
      "cell_type": "code",
      "source": [
        "from nltk.stem.porter import PorterStemmer\n",
        "from nltk.corpus import stopwords"
      ],
      "metadata": {
        "id": "V6yHKB3V2Z_O"
      },
      "execution_count": null,
      "outputs": []
    },
    {
      "cell_type": "code",
      "source": [
        "import nltk\n",
        "nltk.download('stopwords')"
      ],
      "metadata": {
        "colab": {
          "base_uri": "https://localhost:8080/"
        },
        "id": "bzTDvpsf2e95",
        "outputId": "73930d0d-d8a5-4b76-ffd4-aca49a821969"
      },
      "execution_count": null,
      "outputs": [
        {
          "output_type": "stream",
          "name": "stderr",
          "text": [
            "[nltk_data] Downloading package stopwords to /root/nltk_data...\n",
            "[nltk_data]   Unzipping corpora/stopwords.zip.\n"
          ]
        },
        {
          "output_type": "execute_result",
          "data": {
            "text/plain": [
              "True"
            ]
          },
          "metadata": {},
          "execution_count": 5
        }
      ]
    },
    {
      "cell_type": "code",
      "source": [
        "tokenizer = RegexpTokenizer(r'\\w+')\n",
        "en_stopwords = set(stopwords.words('english'))\n",
        "ps = PorterStemmer()"
      ],
      "metadata": {
        "id": "iBymYjhY2h5t"
      },
      "execution_count": null,
      "outputs": []
    },
    {
      "cell_type": "code",
      "source": [
        "def getCleanedText(text):\n",
        "    text = text.lower()\n",
        "    tokens = tokenizer.tokenize(text)\n",
        "    new_tokens = [token for token in tokens if token not in en_stopwords]\n",
        "    stemmed_tokens = [ps.stem(tokens) for tokens in new_tokens]\n",
        "    \n",
        "    clean_text = \" \".join(stemmed_tokens)\n",
        "    \n",
        "    return clean_text"
      ],
      "metadata": {
        "id": "P0QxWALT3xd1"
      },
      "execution_count": null,
      "outputs": []
    },
    {
      "cell_type": "code",
      "source": [
        "X_test = [\"I was happy and happy and I loved the acting in the movie\",\n",
        "\"The movie I saw was bad\"]"
      ],
      "metadata": {
        "id": "h7BiYBRQ2lyN"
      },
      "execution_count": null,
      "outputs": []
    },
    {
      "cell_type": "code",
      "source": [
        "x_clean = [getCleanedText(i) for i in X_train]\n",
        "xt_clean = [getCleanedText(i) for i in X_test]"
      ],
      "metadata": {
        "id": "AN1sQIko2obX"
      },
      "execution_count": null,
      "outputs": []
    },
    {
      "cell_type": "code",
      "source": [
        "x_clean"
      ],
      "metadata": {
        "colab": {
          "base_uri": "https://localhost:8080/"
        },
        "id": "P7SEatM22q4a",
        "outputId": "2dcffa86-b7c9-4bab-8254-575d2321dd5f"
      },
      "execution_count": null,
      "outputs": [
        {
          "output_type": "execute_result",
          "data": {
            "text/plain": [
              "['amaz custom servic',\n",
              " 'love',\n",
              " 'good price',\n",
              " 'like product',\n",
              " 'bad',\n",
              " 'issu',\n",
              " 'buggi']"
            ]
          },
          "metadata": {},
          "execution_count": 24
        }
      ]
    },
    {
      "cell_type": "markdown",
      "source": [
        "#Vectorization\n"
      ],
      "metadata": {
        "id": "M3-AROKN34k6"
      }
    },
    {
      "cell_type": "code",
      "source": [
        "from sklearn.feature_extraction.text import CountVectorizer"
      ],
      "metadata": {
        "id": "pwl7Ayiy2_HU"
      },
      "execution_count": null,
      "outputs": []
    },
    {
      "cell_type": "code",
      "source": [
        "cv = CountVectorizer(ngram_range=(1,2))"
      ],
      "metadata": {
        "id": "KnmH0JXP3ATy"
      },
      "execution_count": null,
      "outputs": []
    },
    {
      "cell_type": "code",
      "source": [
        "x_vec = cv.fit_transform(x_clean).toarray()"
      ],
      "metadata": {
        "id": "wM4wUWVP3D9F"
      },
      "execution_count": null,
      "outputs": []
    },
    {
      "cell_type": "code",
      "source": [
        "x_vec"
      ],
      "metadata": {
        "colab": {
          "base_uri": "https://localhost:8080/"
        },
        "id": "d6-vIuHR3GMQ",
        "outputId": "2de3153f-6542-4e27-9650-dfef45e87f59"
      },
      "execution_count": null,
      "outputs": [
        {
          "output_type": "execute_result",
          "data": {
            "text/plain": [
              "array([[1, 1, 0, 0, 1, 1, 0, 0, 0, 0, 0, 0, 0, 0, 1],\n",
              "       [0, 0, 0, 0, 0, 0, 0, 0, 0, 0, 0, 1, 0, 0, 0],\n",
              "       [0, 0, 0, 0, 0, 0, 1, 1, 0, 0, 0, 0, 1, 0, 0],\n",
              "       [0, 0, 0, 0, 0, 0, 0, 0, 0, 1, 1, 0, 0, 1, 0],\n",
              "       [0, 0, 1, 0, 0, 0, 0, 0, 0, 0, 0, 0, 0, 0, 0],\n",
              "       [0, 0, 0, 0, 0, 0, 0, 0, 1, 0, 0, 0, 0, 0, 0],\n",
              "       [0, 0, 0, 1, 0, 0, 0, 0, 0, 0, 0, 0, 0, 0, 0]])"
            ]
          },
          "metadata": {},
          "execution_count": 28
        }
      ]
    },
    {
      "cell_type": "code",
      "source": [
        "print(cv.get_feature_names())"
      ],
      "metadata": {
        "colab": {
          "base_uri": "https://localhost:8080/"
        },
        "id": "lrEp-KGN3G-W",
        "outputId": "d5f3ddc0-efc5-4434-9a73-cd62ac817c8f"
      },
      "execution_count": null,
      "outputs": [
        {
          "output_type": "stream",
          "name": "stdout",
          "text": [
            "['amaz', 'amaz custom', 'bad', 'buggi', 'custom', 'custom servic', 'good', 'good price', 'issu', 'like', 'like product', 'love', 'price', 'product', 'servic']\n"
          ]
        },
        {
          "output_type": "stream",
          "name": "stderr",
          "text": [
            "/usr/local/lib/python3.7/dist-packages/sklearn/utils/deprecation.py:87: FutureWarning: Function get_feature_names is deprecated; get_feature_names is deprecated in 1.0 and will be removed in 1.2. Please use get_feature_names_out instead.\n",
            "  warnings.warn(msg, category=FutureWarning)\n"
          ]
        }
      ]
    },
    {
      "cell_type": "code",
      "source": [
        "xt_vect = cv.transform(xt_clean).toarray()"
      ],
      "metadata": {
        "id": "jr9PMlHm3KZW"
      },
      "execution_count": null,
      "outputs": []
    },
    {
      "cell_type": "markdown",
      "source": [
        "#Multinomial Naive Bayes"
      ],
      "metadata": {
        "id": "IJ7v9WEN38jS"
      }
    },
    {
      "cell_type": "code",
      "source": [
        "from sklearn.naive_bayes import MultinomialNB"
      ],
      "metadata": {
        "id": "ofI_70DE3OWv"
      },
      "execution_count": null,
      "outputs": []
    },
    {
      "cell_type": "code",
      "source": [
        "mn = MultinomialNB()"
      ],
      "metadata": {
        "id": "D4T46w__3R7P"
      },
      "execution_count": null,
      "outputs": []
    },
    {
      "cell_type": "code",
      "source": [
        "mn.fit(x_vec,y_train)"
      ],
      "metadata": {
        "colab": {
          "base_uri": "https://localhost:8080/"
        },
        "id": "zJKq6xzC3U5W",
        "outputId": "f6d52837-6758-4b44-847e-8c3b0f3c35d6"
      },
      "execution_count": null,
      "outputs": [
        {
          "output_type": "execute_result",
          "data": {
            "text/plain": [
              "MultinomialNB()"
            ]
          },
          "metadata": {},
          "execution_count": 33
        }
      ]
    },
    {
      "cell_type": "code",
      "source": [
        "y_pred = mn.predict(xt_vect)"
      ],
      "metadata": {
        "id": "lmA_Mebe3X_Z"
      },
      "execution_count": null,
      "outputs": []
    },
    {
      "cell_type": "code",
      "source": [
        "y_pred"
      ],
      "metadata": {
        "colab": {
          "base_uri": "https://localhost:8080/"
        },
        "id": "JEKhuDIi3bB7",
        "outputId": "ed8f1525-c7c1-43a3-d2db-3537b91abfbc"
      },
      "execution_count": null,
      "outputs": [
        {
          "output_type": "execute_result",
          "data": {
            "text/plain": [
              "array([1, 0])"
            ]
          },
          "metadata": {},
          "execution_count": 35
        }
      ]
    },
    {
      "cell_type": "code",
      "source": [
        ""
      ],
      "metadata": {
        "id": "m43PgkAm3bzm"
      },
      "execution_count": null,
      "outputs": []
    }
  ]
}